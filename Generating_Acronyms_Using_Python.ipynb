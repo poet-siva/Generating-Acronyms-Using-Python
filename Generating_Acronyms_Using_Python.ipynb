{
  "nbformat": 4,
  "nbformat_minor": 0,
  "metadata": {
    "colab": {
      "name": "Generating Acronyms Using Python.ipynb",
      "provenance": [],
      "authorship_tag": "ABX9TyP2jKAKgRpvBdiEDhTRRK0J",
      "include_colab_link": true
    },
    "kernelspec": {
      "name": "python3",
      "display_name": "Python 3"
    }
  },
  "cells": [
    {
      "cell_type": "markdown",
      "metadata": {
        "id": "view-in-github",
        "colab_type": "text"
      },
      "source": [
        "<a href=\"https://colab.research.google.com/github/poet-siva/Generating-Acronyms-Using-Python/blob/main/Generating_Acronyms_Using_Python.ipynb\" target=\"_parent\"><img src=\"https://colab.research.google.com/assets/colab-badge.svg\" alt=\"Open In Colab\"/></a>"
      ]
    },
    {
      "cell_type": "code",
      "metadata": {
        "colab": {
          "base_uri": "https://localhost:8080/"
        },
        "id": "sDzIQKwSPOVw",
        "outputId": "a2ed3e7e-84e1-4ab8-aff2-53cec8a2b3c2"
      },
      "source": [
        "user_input = str(input ( \"Enter a phrase : \"))\n",
        "text = user_input.split()\n",
        "x =\" \"\n",
        "for i in text:\n",
        "    x = x + str(i[0]) . upper()\n",
        "print(x)"
      ],
      "execution_count": 8,
      "outputs": [
        {
          "output_type": "stream",
          "text": [
            "Enter a phrase : National Aeronautics Space administration\n",
            " NASA\n"
          ],
          "name": "stdout"
        }
      ]
    }
  ]
}